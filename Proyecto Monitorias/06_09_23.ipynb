{
  "cells": [
    {
      "cell_type": "markdown",
      "metadata": {
        "id": "view-in-github",
        "colab_type": "text"
      },
      "source": [
        "<a href=\"https://colab.research.google.com/github/Millansito/UD-Monitorias-2023-II/blob/main/Proyecto%20Monitorias/06_09_23.ipynb\" target=\"_parent\"><img src=\"https://colab.research.google.com/assets/colab-badge.svg\" alt=\"Open In Colab\"/></a>"
      ]
    },
    {
      "cell_type": "code",
      "execution_count": null,
      "metadata": {
        "id": "KNcnVwX4Z-3y",
        "colab": {
          "base_uri": "https://localhost:8080/"
        },
        "outputId": "66719baa-9f25-440a-c86f-5f8a59185d86"
      },
      "outputs": [
        {
          "output_type": "stream",
          "name": "stdout",
          "text": [
            "Requirement already satisfied: PyPDF2 in /usr/local/lib/python3.10/dist-packages (3.0.1)\n"
          ]
        }
      ],
      "source": [
        "!pip install PyPDF2"
      ]
    },
    {
      "cell_type": "code",
      "execution_count": null,
      "metadata": {
        "id": "dDlceIV4EAZH",
        "colab": {
          "base_uri": "https://localhost:8080/"
        },
        "outputId": "7bc72fcf-28a3-4618-acc0-ba70b40f8e49"
      },
      "outputs": [
        {
          "output_type": "stream",
          "name": "stdout",
          "text": [
            "Requirement already satisfied: Unidecode in /usr/local/lib/python3.10/dist-packages (1.3.6)\n"
          ]
        }
      ],
      "source": [
        "pip install Unidecode"
      ]
    },
    {
      "cell_type": "code",
      "source": [
        "from unidecode import unidecode\n"
      ],
      "metadata": {
        "id": "d3JymnmDZNvt"
      },
      "execution_count": null,
      "outputs": []
    },
    {
      "cell_type": "code",
      "execution_count": null,
      "metadata": {
        "id": "jfD6Q-2I3hwf",
        "colab": {
          "base_uri": "https://localhost:8080/"
        },
        "outputId": "adf5b90d-c2f1-462f-a3ff-b91844056a92"
      },
      "outputs": [
        {
          "output_type": "stream",
          "name": "stdout",
          "text": [
            "Requirement already satisfied: pdfplumber in /usr/local/lib/python3.10/dist-packages (0.10.2)\n",
            "Requirement already satisfied: pdfminer.six==20221105 in /usr/local/lib/python3.10/dist-packages (from pdfplumber) (20221105)\n",
            "Requirement already satisfied: Pillow>=9.1 in /usr/local/lib/python3.10/dist-packages (from pdfplumber) (9.4.0)\n",
            "Requirement already satisfied: pypdfium2>=4.18.0 in /usr/local/lib/python3.10/dist-packages (from pdfplumber) (4.19.0)\n",
            "Requirement already satisfied: charset-normalizer>=2.0.0 in /usr/local/lib/python3.10/dist-packages (from pdfminer.six==20221105->pdfplumber) (3.2.0)\n",
            "Requirement already satisfied: cryptography>=36.0.0 in /usr/local/lib/python3.10/dist-packages (from pdfminer.six==20221105->pdfplumber) (41.0.3)\n",
            "Requirement already satisfied: cffi>=1.12 in /usr/local/lib/python3.10/dist-packages (from cryptography>=36.0.0->pdfminer.six==20221105->pdfplumber) (1.15.1)\n",
            "Requirement already satisfied: pycparser in /usr/local/lib/python3.10/dist-packages (from cffi>=1.12->cryptography>=36.0.0->pdfminer.six==20221105->pdfplumber) (2.21)\n"
          ]
        }
      ],
      "source": [
        "pip install pdfplumber"
      ]
    },
    {
      "cell_type": "markdown",
      "metadata": {
        "id": "B_JpXBKDdAFo"
      },
      "source": [
        "*Te* amo\n"
      ]
    },
    {
      "cell_type": "code",
      "execution_count": null,
      "metadata": {
        "colab": {
          "base_uri": "https://localhost:8080/",
          "height": 90
        },
        "id": "fMQ0vBrxfMLO",
        "outputId": "ac0864c2-7c0f-4973-a37c-9b41c1c77276"
      },
      "outputs": [
        {
          "output_type": "display_data",
          "data": {
            "text/plain": [
              "<IPython.core.display.HTML object>"
            ],
            "text/html": [
              "\n",
              "     <input type=\"file\" id=\"files-69a9c82d-0516-4df0-aadd-b51c91c69466\" name=\"files[]\" multiple disabled\n",
              "        style=\"border:none\" />\n",
              "     <output id=\"result-69a9c82d-0516-4df0-aadd-b51c91c69466\">\n",
              "      Upload widget is only available when the cell has been executed in the\n",
              "      current browser session. Please rerun this cell to enable.\n",
              "      </output>\n",
              "      <script>// Copyright 2017 Google LLC\n",
              "//\n",
              "// Licensed under the Apache License, Version 2.0 (the \"License\");\n",
              "// you may not use this file except in compliance with the License.\n",
              "// You may obtain a copy of the License at\n",
              "//\n",
              "//      http://www.apache.org/licenses/LICENSE-2.0\n",
              "//\n",
              "// Unless required by applicable law or agreed to in writing, software\n",
              "// distributed under the License is distributed on an \"AS IS\" BASIS,\n",
              "// WITHOUT WARRANTIES OR CONDITIONS OF ANY KIND, either express or implied.\n",
              "// See the License for the specific language governing permissions and\n",
              "// limitations under the License.\n",
              "\n",
              "/**\n",
              " * @fileoverview Helpers for google.colab Python module.\n",
              " */\n",
              "(function(scope) {\n",
              "function span(text, styleAttributes = {}) {\n",
              "  const element = document.createElement('span');\n",
              "  element.textContent = text;\n",
              "  for (const key of Object.keys(styleAttributes)) {\n",
              "    element.style[key] = styleAttributes[key];\n",
              "  }\n",
              "  return element;\n",
              "}\n",
              "\n",
              "// Max number of bytes which will be uploaded at a time.\n",
              "const MAX_PAYLOAD_SIZE = 100 * 1024;\n",
              "\n",
              "function _uploadFiles(inputId, outputId) {\n",
              "  const steps = uploadFilesStep(inputId, outputId);\n",
              "  const outputElement = document.getElementById(outputId);\n",
              "  // Cache steps on the outputElement to make it available for the next call\n",
              "  // to uploadFilesContinue from Python.\n",
              "  outputElement.steps = steps;\n",
              "\n",
              "  return _uploadFilesContinue(outputId);\n",
              "}\n",
              "\n",
              "// This is roughly an async generator (not supported in the browser yet),\n",
              "// where there are multiple asynchronous steps and the Python side is going\n",
              "// to poll for completion of each step.\n",
              "// This uses a Promise to block the python side on completion of each step,\n",
              "// then passes the result of the previous step as the input to the next step.\n",
              "function _uploadFilesContinue(outputId) {\n",
              "  const outputElement = document.getElementById(outputId);\n",
              "  const steps = outputElement.steps;\n",
              "\n",
              "  const next = steps.next(outputElement.lastPromiseValue);\n",
              "  return Promise.resolve(next.value.promise).then((value) => {\n",
              "    // Cache the last promise value to make it available to the next\n",
              "    // step of the generator.\n",
              "    outputElement.lastPromiseValue = value;\n",
              "    return next.value.response;\n",
              "  });\n",
              "}\n",
              "\n",
              "/**\n",
              " * Generator function which is called between each async step of the upload\n",
              " * process.\n",
              " * @param {string} inputId Element ID of the input file picker element.\n",
              " * @param {string} outputId Element ID of the output display.\n",
              " * @return {!Iterable<!Object>} Iterable of next steps.\n",
              " */\n",
              "function* uploadFilesStep(inputId, outputId) {\n",
              "  const inputElement = document.getElementById(inputId);\n",
              "  inputElement.disabled = false;\n",
              "\n",
              "  const outputElement = document.getElementById(outputId);\n",
              "  outputElement.innerHTML = '';\n",
              "\n",
              "  const pickedPromise = new Promise((resolve) => {\n",
              "    inputElement.addEventListener('change', (e) => {\n",
              "      resolve(e.target.files);\n",
              "    });\n",
              "  });\n",
              "\n",
              "  const cancel = document.createElement('button');\n",
              "  inputElement.parentElement.appendChild(cancel);\n",
              "  cancel.textContent = 'Cancel upload';\n",
              "  const cancelPromise = new Promise((resolve) => {\n",
              "    cancel.onclick = () => {\n",
              "      resolve(null);\n",
              "    };\n",
              "  });\n",
              "\n",
              "  // Wait for the user to pick the files.\n",
              "  const files = yield {\n",
              "    promise: Promise.race([pickedPromise, cancelPromise]),\n",
              "    response: {\n",
              "      action: 'starting',\n",
              "    }\n",
              "  };\n",
              "\n",
              "  cancel.remove();\n",
              "\n",
              "  // Disable the input element since further picks are not allowed.\n",
              "  inputElement.disabled = true;\n",
              "\n",
              "  if (!files) {\n",
              "    return {\n",
              "      response: {\n",
              "        action: 'complete',\n",
              "      }\n",
              "    };\n",
              "  }\n",
              "\n",
              "  for (const file of files) {\n",
              "    const li = document.createElement('li');\n",
              "    li.append(span(file.name, {fontWeight: 'bold'}));\n",
              "    li.append(span(\n",
              "        `(${file.type || 'n/a'}) - ${file.size} bytes, ` +\n",
              "        `last modified: ${\n",
              "            file.lastModifiedDate ? file.lastModifiedDate.toLocaleDateString() :\n",
              "                                    'n/a'} - `));\n",
              "    const percent = span('0% done');\n",
              "    li.appendChild(percent);\n",
              "\n",
              "    outputElement.appendChild(li);\n",
              "\n",
              "    const fileDataPromise = new Promise((resolve) => {\n",
              "      const reader = new FileReader();\n",
              "      reader.onload = (e) => {\n",
              "        resolve(e.target.result);\n",
              "      };\n",
              "      reader.readAsArrayBuffer(file);\n",
              "    });\n",
              "    // Wait for the data to be ready.\n",
              "    let fileData = yield {\n",
              "      promise: fileDataPromise,\n",
              "      response: {\n",
              "        action: 'continue',\n",
              "      }\n",
              "    };\n",
              "\n",
              "    // Use a chunked sending to avoid message size limits. See b/62115660.\n",
              "    let position = 0;\n",
              "    do {\n",
              "      const length = Math.min(fileData.byteLength - position, MAX_PAYLOAD_SIZE);\n",
              "      const chunk = new Uint8Array(fileData, position, length);\n",
              "      position += length;\n",
              "\n",
              "      const base64 = btoa(String.fromCharCode.apply(null, chunk));\n",
              "      yield {\n",
              "        response: {\n",
              "          action: 'append',\n",
              "          file: file.name,\n",
              "          data: base64,\n",
              "        },\n",
              "      };\n",
              "\n",
              "      let percentDone = fileData.byteLength === 0 ?\n",
              "          100 :\n",
              "          Math.round((position / fileData.byteLength) * 100);\n",
              "      percent.textContent = `${percentDone}% done`;\n",
              "\n",
              "    } while (position < fileData.byteLength);\n",
              "  }\n",
              "\n",
              "  // All done.\n",
              "  yield {\n",
              "    response: {\n",
              "      action: 'complete',\n",
              "    }\n",
              "  };\n",
              "}\n",
              "\n",
              "scope.google = scope.google || {};\n",
              "scope.google.colab = scope.google.colab || {};\n",
              "scope.google.colab._files = {\n",
              "  _uploadFiles,\n",
              "  _uploadFilesContinue,\n",
              "};\n",
              "})(self);\n",
              "</script> "
            ]
          },
          "metadata": {}
        },
        {
          "output_type": "stream",
          "name": "stdout",
          "text": [
            "Saving 01_6_Seminario_de_Ingeniería.pdf to 01_6_Seminario_de_Ingeniería (3).pdf\n",
            "User uploaded file \"01_6_Seminario_de_Ingeniería (3).pdf\" with length 143902 bytes\n"
          ]
        }
      ],
      "source": [
        "from google.colab import files\n",
        "\n",
        "uploaded = files.upload()\n",
        "for fn in uploaded.keys():\n",
        "  print('User uploaded file \"{name}\" with length {length} bytes'.format(name=fn, length=len(uploaded[fn])))\n",
        "pdf_path = list(uploaded.keys())[0]\n"
      ]
    },
    {
      "cell_type": "code",
      "execution_count": null,
      "metadata": {
        "id": "t9I1cDZRo92k",
        "colab": {
          "base_uri": "https://localhost:8080/"
        },
        "outputId": "722b57a0-beb1-4d99-946e-9b1690154e6a"
      },
      "outputs": [
        {
          "output_type": "stream",
          "name": "stdout",
          "text": [
            "Requirement already satisfied: pdfminer.six in /usr/local/lib/python3.10/dist-packages (20221105)\n",
            "Requirement already satisfied: charset-normalizer>=2.0.0 in /usr/local/lib/python3.10/dist-packages (from pdfminer.six) (3.2.0)\n",
            "Requirement already satisfied: cryptography>=36.0.0 in /usr/local/lib/python3.10/dist-packages (from pdfminer.six) (41.0.3)\n",
            "Requirement already satisfied: cffi>=1.12 in /usr/local/lib/python3.10/dist-packages (from cryptography>=36.0.0->pdfminer.six) (1.15.1)\n",
            "Requirement already satisfied: pycparser in /usr/local/lib/python3.10/dist-packages (from cffi>=1.12->cryptography>=36.0.0->pdfminer.six) (2.21)\n"
          ]
        }
      ],
      "source": [
        "!pip install pdfminer.six\n"
      ]
    },
    {
      "cell_type": "code",
      "execution_count": null,
      "metadata": {
        "id": "r5BMFHkjpzhX",
        "colab": {
          "base_uri": "https://localhost:8080/"
        },
        "outputId": "508069a0-2343-4ffa-ab01-8f73eb0a7603"
      },
      "outputs": [
        {
          "output_type": "stream",
          "name": "stdout",
          "text": [
            "Requirement already satisfied: pdfminer.six in /usr/local/lib/python3.10/dist-packages (20221105)\n",
            "Requirement already satisfied: unidecode in /usr/local/lib/python3.10/dist-packages (1.3.6)\n",
            "Requirement already satisfied: charset-normalizer>=2.0.0 in /usr/local/lib/python3.10/dist-packages (from pdfminer.six) (3.2.0)\n",
            "Requirement already satisfied: cryptography>=36.0.0 in /usr/local/lib/python3.10/dist-packages (from pdfminer.six) (41.0.3)\n",
            "Requirement already satisfied: cffi>=1.12 in /usr/local/lib/python3.10/dist-packages (from cryptography>=36.0.0->pdfminer.six) (1.15.1)\n",
            "Requirement already satisfied: pycparser in /usr/local/lib/python3.10/dist-packages (from cffi>=1.12->cryptography>=36.0.0->pdfminer.six) (2.21)\n"
          ]
        }
      ],
      "source": [
        "!pip install pdfminer.six unidecode\n"
      ]
    },
    {
      "cell_type": "code",
      "execution_count": null,
      "metadata": {
        "id": "lVwCvvXCW1Me",
        "colab": {
          "base_uri": "https://localhost:8080/"
        },
        "outputId": "e8c872b3-4bf2-432f-9b92-8fc8f470242e"
      },
      "outputs": [
        {
          "output_type": "stream",
          "name": "stdout",
          "text": [
            "Requirement already satisfied: pdfminer.six in /usr/local/lib/python3.10/dist-packages (20221105)\n",
            "Requirement already satisfied: charset-normalizer>=2.0.0 in /usr/local/lib/python3.10/dist-packages (from pdfminer.six) (3.2.0)\n",
            "Requirement already satisfied: cryptography>=36.0.0 in /usr/local/lib/python3.10/dist-packages (from pdfminer.six) (41.0.3)\n",
            "Requirement already satisfied: cffi>=1.12 in /usr/local/lib/python3.10/dist-packages (from cryptography>=36.0.0->pdfminer.six) (1.15.1)\n",
            "Requirement already satisfied: pycparser in /usr/local/lib/python3.10/dist-packages (from cffi>=1.12->cryptography>=36.0.0->pdfminer.six) (2.21)\n"
          ]
        }
      ],
      "source": [
        "!pip install pdfminer.six\n"
      ]
    },
    {
      "cell_type": "code",
      "execution_count": null,
      "metadata": {
        "id": "2xKkeMH8a1NL",
        "colab": {
          "base_uri": "https://localhost:8080/"
        },
        "outputId": "b3f2c0e1-2b73-4806-b5e9-3a6ffb2ec0d8"
      },
      "outputs": [
        {
          "output_type": "stream",
          "name": "stdout",
          "text": [
            "Requirement already satisfied: tabula-py in /usr/local/lib/python3.10/dist-packages (2.7.0)\n",
            "Requirement already satisfied: pandas>=0.25.3 in /usr/local/lib/python3.10/dist-packages (from tabula-py) (1.5.3)\n",
            "Requirement already satisfied: numpy in /usr/local/lib/python3.10/dist-packages (from tabula-py) (1.23.5)\n",
            "Requirement already satisfied: distro in /usr/lib/python3/dist-packages (from tabula-py) (1.7.0)\n",
            "Requirement already satisfied: python-dateutil>=2.8.1 in /usr/local/lib/python3.10/dist-packages (from pandas>=0.25.3->tabula-py) (2.8.2)\n",
            "Requirement already satisfied: pytz>=2020.1 in /usr/local/lib/python3.10/dist-packages (from pandas>=0.25.3->tabula-py) (2023.3.post1)\n",
            "Requirement already satisfied: six>=1.5 in /usr/local/lib/python3.10/dist-packages (from python-dateutil>=2.8.1->pandas>=0.25.3->tabula-py) (1.16.0)\n"
          ]
        }
      ],
      "source": [
        "!pip install tabula-py"
      ]
    },
    {
      "cell_type": "code",
      "execution_count": null,
      "metadata": {
        "id": "3MFm2seMkXpe"
      },
      "outputs": [],
      "source": [
        "pip install pdfplumber"
      ]
    },
    {
      "cell_type": "code",
      "execution_count": null,
      "metadata": {
        "id": "F4p_unnA0Jtr",
        "colab": {
          "base_uri": "https://localhost:8080/"
        },
        "outputId": "33bc0e7d-5a52-418d-f620-7b9af8fce6e9"
      },
      "outputs": [
        {
          "output_type": "stream",
          "name": "stdout",
          "text": [
            "Programa Sintetico\n",
            "I. LA UNIVERSIDAD DISTRITAL\n",
            "a. ?Que es la universidad? ?Que busca la universidad?\n",
            "b. ?cual es la mision y vision de la Universidad Distrital?\n",
            "c. ?Como esta organizada?\n",
            "d. ?cuales son los derechos y deberes del estudiante distritalino?\n",
            "e. ?cual es la mision y vision de la Facultad de Ingenieria de la Universidad Distrital?\n",
            "II. LA INGENIERIA EN LA UNIVERSIDAD.\n",
            "a. ?Que es la Ingenieria?\n",
            "b. Desarrollo historico y conte tual de la Ingenieria. Investigadores, cientificos y\n",
            "desarrolladores\n",
            "c. Las Ciencias Basicas en la Ingenieria\n",
            "d. La ingenieria en Colombia y su influencia en el desarrollo nacional\n",
            "III. EL PAPEL DEL INGENIERO\n",
            "a. Ciencia, Tecnologia e ingenieria\n",
            "b. Aprendizaje y pensamiento creativo\n",
            "c. La responsabilidad social y su entendimiento desde los enfoques etico, social, economico\n",
            "y politico\n",
            "d. El concepto de impacto social en la Ingenieria\n",
            "e. Profesionalismo y codigos de conducta profesional\n",
            "f. El caracter evolutivo de los proyectos\n",
            "g. El trabajo en equipo\n",
            "IV. LOS PROGRAMAS DE INGENIERIA QUE SE OFRECEN EN LA FACULTAD DE\n",
            "INGENIERIA\n",
            "a. Ingenieria catastral y geodesia:\n",
            "i. Historia del proyecto Curricular\n",
            "ii. La Mision, Vision y Plan de Estudios\n",
            "iii. Perfil de Egresado\n",
            "iv. Los problemas academicos de Catastro.\n",
            "v. Mercado Laboral, Desempeno Profesional y proyeccion en las diferentes areas de formacion\n",
            "b. Ingenieria de sistemas:\n",
            "i. Historia del proyecto Curricular\n",
            "ii. La Mision, Vision y Plan de Estudios\n",
            "iii. Perfil de Egresado\n",
            "iv. Mercado Laboral, Desempeno Profesional y proyeccion en las diferentes areas de formacion\n",
            "c. Ingenieria electrica:\n",
            "i. Historia del proyecto Curricular\n",
            "ii. La Mision, Vision y Plan de Estudios\n",
            "iii. Perfil de Egresado\n",
            "iv. Mercado Laboral, Desempeno Profesional y proyeccion en las diferentes areas de formacion\n",
            "d. Ingenieria electronica:\n",
            "i. Historia del proyecto Curricular\n",
            "ii. La Mision, Vision y Plan de Estudios\n",
            "iii. Perfil de Egresado\n",
            "iv. Mercado Laboral, Desempeno Profesional y proyeccion en las diferentes areas de\n",
            "formacion\n"
          ]
        }
      ],
      "source": [
        "import pdfplumber\n",
        "import re\n",
        "from unidecode import unidecode\n",
        "\n",
        "def extract_section_with_title(pdf_path):\n",
        "    section_content = []\n",
        "    capture_content = False\n",
        "\n",
        "    # Palabras clave a buscar (cualquiera de ellas)\n",
        "    search_keywords = [\"PROGRAMA SINTETICO\", \"UNIDADES\", \"Programa Sintetico\"]\n",
        "\n",
        "    roman_pattern = re.compile(r'^(I{1,3}|IV|V?I{0,3}|IX|X{1,3})\\.\\s+')\n",
        "    digits_pattern = re.compile(r'^\\d')\n",
        "\n",
        "    with pdfplumber.open(pdf_path) as pdf:\n",
        "        text_content = []\n",
        "        for page in pdf.pages:\n",
        "            text = page.extract_text()\n",
        "            text_content.extend(text.split('\\n'))\n",
        "\n",
        "        current_line = \"\"\n",
        "        grouping_by_digit = False\n",
        "        for i, line in enumerate(text_content):\n",
        "            line_without_accent = unidecode(line).strip()\n",
        "\n",
        "            # Comenzar a capturar si encuentra cualquiera de las palabras clave en la línea\n",
        "            if any(keyword in line_without_accent for keyword in search_keywords):\n",
        "                capture_content = True\n",
        "\n",
        "            # Detener la captura si encontramos cualquiera de las palabras clave de detención\n",
        "            if \"RESULTADOS\" in line_without_accent or \"Metodologia\" in line_without_accent  or \"ESTRATEGIAS\" in line_without_accent or \"METODOLOGIA\" in line_without_accent or \"PEDAGOGICA\" in line_without_accent or \"EVALUACION\" in line_without_accent:\n",
        "                capture_content = False\n",
        "            elif line_without_accent.isupper() and text_content.count(line) > 1:\n",
        "                capture_content = False\n",
        "\n",
        "            if capture_content:\n",
        "                if roman_pattern.match(line_without_accent):\n",
        "                    if current_line:\n",
        "                        section_content.append(current_line)\n",
        "                        current_line = \"\"\n",
        "                    if i + 1 < len(text_content) and digits_pattern.match(unidecode(text_content[i + 1]).strip()):\n",
        "                        grouping_by_digit = True\n",
        "                        current_line = line_without_accent\n",
        "                    else:\n",
        "                        section_content.append(line_without_accent)\n",
        "                elif grouping_by_digit:\n",
        "                    current_line += \" \" + line_without_accent\n",
        "                    if digits_pattern.match(line_without_accent) and \".\" in line_without_accent:\n",
        "                        section_content.append(current_line)\n",
        "                        current_line = \"\"\n",
        "                        grouping_by_digit = False\n",
        "                else:\n",
        "                    section_content.append(line_without_accent)\n",
        "\n",
        "    for i, line in enumerate(section_content):\n",
        "        # Eliminar las ocurrencias de 'x' o 'X' que estén rodeadas de espacios o en el inicio/final de una línea\n",
        "        cleaned_line = re.sub(r'\\s+[xX]\\s+|(?<=^)[xX]\\s+|\\s+[xX](?=$)', ' ', line)\n",
        "        # Eliminar la palabra \"pagina\"\n",
        "        cleaned_line = re.sub(r'\\bpagina\\b', '', cleaned_line, flags=re.IGNORECASE)\n",
        "        # Eliminar cualquier 'x' aislada que aún esté presente, sin dejar múltiples espacios\n",
        "        cleaned_line = re.sub(r'\\s*x\\s*', ' ', cleaned_line, flags=re.IGNORECASE)\n",
        "        section_content[i] = cleaned_line.strip()  # Añadir .strip() para eliminar posibles espacios adicionales al principio o al final\n",
        "\n",
        "    return section_content\n",
        "\n",
        "# Para utilizar la función con la variable pdf_path ya definida\n",
        "section = extract_section_with_title(pdf_path)\n",
        "for line in section:\n",
        "    print(line)\n",
        "\n",
        "\n",
        "\n"
      ]
    }
  ],
  "metadata": {
    "colab": {
      "provenance": [],
      "include_colab_link": true
    },
    "kernelspec": {
      "display_name": "Python 3",
      "name": "python3"
    },
    "language_info": {
      "name": "python"
    }
  },
  "nbformat": 4,
  "nbformat_minor": 0
}